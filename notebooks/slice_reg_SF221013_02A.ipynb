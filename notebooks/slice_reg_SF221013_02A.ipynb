{
 "cells": [
  {
   "cell_type": "code",
   "execution_count": 1,
   "id": "3fdd61fa",
   "metadata": {},
   "outputs": [],
   "source": [
    "%load_ext autoreload\n",
    "%autoreload 2\n",
    "%matplotlib notebook"
   ]
  },
  {
   "cell_type": "code",
   "execution_count": 2,
   "id": "677ecb21",
   "metadata": {},
   "outputs": [],
   "source": [
    "import slice_reg\n",
    "import os\n",
    "from os.path import join, split\n",
    "import numpy as np\n",
    "import tifffile\n",
    "import pandas as pd\n",
    "import re\n",
    "\n",
    "src_dir = '/home/brysongray/data/hongwei_data/SF221013_02A/bk'\n",
    "target_dir = '/home/brysongray/data/hongwei_data/SF221013_02A/fluoro'\n",
    "out_dir = '/home/brysongray/donglab/slice_reg_outputs/SF221013_02A_out'"
   ]
  },
  {
   "cell_type": "code",
   "execution_count": null,
   "id": "9e497f55",
   "metadata": {
    "scrolled": true
   },
   "outputs": [],
   "source": [
    "slice_reg.register_slices(src_dir, target_dir, out_dir, epL=2e-2, epT=1e-7)"
   ]
  },
  {
   "cell_type": "code",
   "execution_count": null,
   "id": "bb7f19ed",
   "metadata": {
    "scrolled": false
   },
   "outputs": [],
   "source": [
    "# outliers = [10,13,25,27,31,32,41,42]\n",
    "outliers = [42]\n",
    "slice_reg.register_slices(src_dir, target_dir, out_dir, ids=outliers, epL=5e-6, epT=1e-7, niter=12000)"
   ]
  },
  {
   "attachments": {},
   "cell_type": "markdown",
   "id": "1c41935d",
   "metadata": {},
   "source": [
    "## View transformed images"
   ]
  },
  {
   "cell_type": "code",
   "execution_count": 3,
   "id": "4162f57c",
   "metadata": {},
   "outputs": [
    {
     "name": "stdout",
     "output_type": "stream",
     "text": [
      "SF221013_02A_JIANDONG_AD_01_01_10x_CY5, GFP, DAPI, GOLD, TRITC_01_down2_to_SF221013_02A_BK_JIANDONG_AD_01_01_20x_BF_01_down4_registration.npz\n",
      "SF221013_02A_BK_JIANDONG_AD_01_01_20x_BF_01_down4.tif\n",
      "SF221013_02A_JIANDONG_AD_01_01_10x_CY5, GFP, DAPI, GOLD, TRITC_01_down2.tif\n"
     ]
    }
   ],
   "source": [
    "npzlist = os.listdir(out_dir)\n",
    "npzlist = [f for f in npzlist if 'npz' in f]\n",
    "npzlist.sort()\n",
    "filesM = os.listdir(src_dir)\n",
    "filesM.sort()\n",
    "filesN = os.listdir(target_dir)\n",
    "filesN.sort()\n",
    "print(npzlist[0])\n",
    "print(filesM[0])\n",
    "print(filesN[0])"
   ]
  },
  {
   "cell_type": "code",
   "execution_count": null,
   "id": "86b451d1",
   "metadata": {},
   "outputs": [],
   "source": [
    "slice_reg.transform_series(out_dir, src_dir, target_dir, src_files=filesM, target_files=filesN, transform_list=npzlist)"
   ]
  },
  {
   "cell_type": "code",
   "execution_count": null,
   "id": "5372f550",
   "metadata": {},
   "outputs": [],
   "source": [
    "np.sqrt((2636-2650)**2+(664-658)**2)"
   ]
  },
  {
   "cell_type": "code",
   "execution_count": null,
   "id": "7c1368eb",
   "metadata": {},
   "outputs": [],
   "source": [
    "[d*15 for d in dJ]"
   ]
  },
  {
   "attachments": {},
   "cell_type": "markdown",
   "id": "7a6dbc00",
   "metadata": {},
   "source": [
    "## Apply transforms to original images"
   ]
  },
  {
   "cell_type": "code",
   "execution_count": 3,
   "id": "133bd33a",
   "metadata": {},
   "outputs": [],
   "source": [
    "# original fluoro example\n",
    "spreadsheet = '/home/brysongray/bmap/dong/hanpeng-bk-SF221013_02A/SF221013_02A_converted_register list.xlsx'\n",
    "myelin_dir = '/home/brysongray/bmap/dong/hanpeng-bk-SF221013_02A/SF221013_02A_BK_converted'\n",
    "fluoro_dir = '/home/brysongray/bmap/dong/hanpeng-bk-SF221013_02A/SF221013_02A_converted'\n",
    "transforms_dir = '/home/brysongray/donglab/slice_reg_outputs/SF221013_02A_out'\n",
    "out_dir = '/home/brysongray/bmap/dong/SF221013_02A_output/'"
   ]
  },
  {
   "cell_type": "code",
   "execution_count": 4,
   "id": "fc2470a7",
   "metadata": {},
   "outputs": [
    {
     "name": "stdout",
     "output_type": "stream",
     "text": [
      "219 219 219\n",
      "True\n",
      "51 51 51\n",
      "True\n"
     ]
    }
   ],
   "source": [
    "# get lists of file names from the excel sheet\n",
    "fnames_data = pd.read_excel(spreadsheet, usecols=[0,2])\n",
    "filesM = fnames_data.iloc[:,0] # Myelin\n",
    "filesN = fnames_data.iloc[:,1] # Fluoro\n",
    "# remove nan values from the dataframe\n",
    "filesM = filesM.dropna()\n",
    "filesN = filesN.dropna()\n",
    "# remove single space strings from the dataframe\n",
    "filesM = filesM[filesM != ' ']\n",
    "filesN = filesN[filesN != ' ']\n",
    "# replace double backslash with single forward slash\n",
    "filesM = [f.replace('\\\\', '/') for f in filesM]\n",
    "filesN = [f.replace('\\\\', '/') for f in filesN]\n",
    "# get only the file names\n",
    "filesM = [split(f)[1][1:] for f in filesM] # remove the first character which is a space\n",
    "filesN = [split(f)[1][2:] for f in filesN] # remove the first two characters which are spaces\n",
    "\n",
    "# compare the file names in the excel sheet to the file names in the directory\n",
    "listdirN = os.listdir(fluoro_dir)\n",
    "listdirN = [f for f in listdirN if 'Overview' not in f]\n",
    "listdirM = os.listdir(myelin_dir)\n",
    "listdirM = [f for f in listdirM if 'Overview' not in f]\n",
    "# check that listdirN and filesN contain the same files\n",
    "filesNintersection = [f for f in filesN if f in listdirN]\n",
    "print(len(filesNintersection), len(listdirN), len(filesN))\n",
    "print(len(filesNintersection)==len(listdirN)==len(filesN))\n",
    "# check that listdirM and filesM contain the same files\n",
    "filesMintersection = [f for f in filesM if f in listdirM]\n",
    "print(len(filesMintersection), len(listdirM), len(filesM))\n",
    "print(len(filesMintersection)==len(listdirM)==len(filesM))\n",
    "\n",
    "# filesN must be grouped into n for each image with n channels\n",
    "filesN0 = [filesN[i:i+5] for i in range(0, len(filesN[:74]), 5)]\n",
    "filesN1 = [filesN[i:i+5-1] for i in range(75, len(filesN), 5-1)]\n",
    "filesN = filesN0 + filesN1\n",
    "filesN_ = [f[0] for f in filesN]\n",
    "\n",
    "# get list of transforms\n",
    "npzlist = os.listdir(transforms_dir)\n",
    "npzlist = [f for f in npzlist if 'npz' in f]\n",
    "npzlist.sort()"
   ]
  },
  {
   "cell_type": "code",
   "execution_count": 5,
   "id": "b14c297b",
   "metadata": {},
   "outputs": [
    {
     "name": "stdout",
     "output_type": "stream",
     "text": [
      "['SF221013_02A_BK_JIANDONG_AD_01_01_20x_BF_02.tif', 'SF221013_02A_BK_JIANDONG_AD_01_02_20x_BF_03.tif', 'SF221013_02A_BK_JIANDONG_AD_01_03_20x_BF_04.tif', 'SF221013_02A_BK_JIANDONG_AD_01_04_20x_BF_05.tif', 'SF221013_02A_BK_JIANDONG_AD_01_05_20x_BF_06.tif', 'SF221013_02A_BK_JIANDONG_AD_01_06_20x_BF_07.tif', 'SF221013_02A_BK_JIANDONG_AD_01_07_20x_BF_08.tif', 'SF221013_02A_BK_JIANDONG_AD_01_08_20x_BF_09.tif', 'SF221013_02A_BK_JIANDONG_AD_01_09_20x_BF_10.tif', 'SF221013_02A_BK_JIANDONG_AD_01_10_20x_BF_11.tif', 'SF221013_02A_BK_JIANDONG_AD_01_11_20x_BF_12.tif', 'SF221013_02A_BK_JIANDONG_AD_01_12_20x_BF_13.tif', 'SF221013_02A_BK_JIANDONG_AD_01_13_20x_BF_14.tif', 'SF221013_02A_BK_JIANDONG_AD_01_14_20x_BF_15.tif', 'SF221013_02A_BK_JIANDONG_AD_01_20x_BF_01.tif']\n"
     ]
    }
   ],
   "source": [
    "# correct the numbering so the images align when the lists are sorted\n",
    "filesM = sorted(os.listdir(myelin_dir))\n",
    "filesM = [f for f in filesM if 'Overview' not in f]\n",
    "print(filesM[:15])\n",
    "filesM_v1 = [] \n",
    "for f in filesM:\n",
    "    fsplit = re.split(r'(D_.._)',f)\n",
    "    if fsplit[2][:3] == '20x':\n",
    "        f_ = fsplit[0] + fsplit[1] + '01_' + fsplit[2]\n",
    "        filesM_v1.append(f_)\n",
    "    else:\n",
    "        # n = int(f.split('_AD_0*_')[1][:2])\n",
    "        n = int(fsplit[2][:2])\n",
    "        f_ = fsplit[0] + fsplit[1] + f'{n+1:02}' + fsplit[2][2:]\n",
    "        filesM_v1.append(f_)\n",
    "\n",
    "dictM = dict(zip(filesM_v1, filesM))\n",
    "filesM_v1.sort()\n",
    "filesM = [dictM[f] for f in filesM_v1]"
   ]
  },
  {
   "cell_type": "code",
   "execution_count": 6,
   "id": "0bb48578",
   "metadata": {},
   "outputs": [
    {
     "name": "stdout",
     "output_type": "stream",
     "text": [
      "SF221013_02A_BK_JIANDONG_AD_01_20x_BF_01.tif \n",
      " SF221013_02A_JIANDONG_AD_01_01_10x_CY5, GFP, DAPI, GOLD, TRITC_01_CH0-CY5.tif \n",
      " SF221013_02A_JIANDONG_AD_01_01_10x_CY5, GFP, DAPI, GOLD, TRITC_01_down2_to_SF221013_02A_BK_JIANDONG_AD_01_01_20x_BF_01_down4_registration.npz\n"
     ]
    }
   ],
   "source": [
    "print(filesM[0],'\\n',\n",
    "      filesN_[0],'\\n',\n",
    "      npzlist[0])"
   ]
  },
  {
   "cell_type": "code",
   "execution_count": 9,
   "id": "90581b6b",
   "metadata": {},
   "outputs": [
    {
     "name": "stdout",
     "output_type": "stream",
     "text": [
      "loading:  SF221013_02A_BK_JIANDONG_AD_01_20x_BF_01.tif\n",
      "I shape:  (16287, 20933, 3)\n",
      "time to apply transform: 5.3994386196136475\n",
      "torch.Size([3, 7950, 9198])\n",
      "saved AI to  /home/brysongray/bmap/dong/SF221013_02A_output/SF221013_02A_JIANDONG_AD_01_01_10x_CY5, GFP, DAPI, GOLD, TRITC_01_down2_to_SF221013_02A_BK_JIANDONG_AD_01_01_20x_BF_01_down4_AI.tif\n",
      "loading:  SF221013_02A_BK_JIANDONG_AD_01_01_20x_BF_02.tif\n",
      "I shape:  (17687, 21628, 3)\n",
      "time to apply transform: 19.119914531707764\n",
      "torch.Size([3, 7832, 9731])\n",
      "saved AI to  /home/brysongray/bmap/dong/SF221013_02A_output/SF221013_02A_JIANDONG_AD_01_02_10x_CY5, GFP, DAPI, GOLD, TRITC_02_down2_to_SF221013_02A_BK_JIANDONG_AD_01_02_20x_BF_02_down4_AI.tif\n",
      "loading:  SF221013_02A_BK_JIANDONG_AD_01_02_20x_BF_03.tif\n",
      "I shape:  (18531, 23187, 3)\n",
      "time to apply transform: 49.50894737243652\n",
      "torch.Size([3, 8483, 10736])\n",
      "saved AI to  /home/brysongray/bmap/dong/SF221013_02A_output/SF221013_02A_JIANDONG_AD_01_03_10x_CY5, GFP, DAPI, GOLD, TRITC_03_down2_to_SF221013_02A_BK_JIANDONG_AD_01_03_20x_BF_03_down4_AI.tif\n",
      "loading:  SF221013_02A_BK_JIANDONG_AD_01_03_20x_BF_04.tif\n",
      "I shape:  (19942, 25144, 3)\n",
      "time to apply transform: 82.94737958908081\n",
      "torch.Size([3, 8837, 11093])\n",
      "saved AI to  /home/brysongray/bmap/dong/SF221013_02A_output/SF221013_02A_JIANDONG_AD_01_04_10x_CY5, GFP, DAPI, GOLD, TRITC_04_down2_to_SF221013_02A_BK_JIANDONG_AD_01_04_20x_BF_04_down4_AI.tif\n",
      "loading:  SF221013_02A_BK_JIANDONG_AD_01_04_20x_BF_05.tif\n",
      "I shape:  (20498, 26276, 3)\n",
      "time to apply transform: 121.79267597198486\n",
      "torch.Size([3, 9074, 11684])\n",
      "saved AI to  /home/brysongray/bmap/dong/SF221013_02A_output/SF221013_02A_JIANDONG_AD_01_05_10x_CY5, GFP, DAPI, GOLD, TRITC_05_down2_to_SF221013_02A_BK_JIANDONG_AD_01_05_20x_BF_05_down4_AI.tif\n",
      "loading:  SF221013_02A_BK_JIANDONG_AD_01_05_20x_BF_06.tif\n",
      "I shape:  (21620, 28381, 3)\n",
      "time to apply transform: 154.78519344329834\n",
      "torch.Size([3, 9429, 12454])\n",
      "saved AI to  /home/brysongray/bmap/dong/SF221013_02A_output/SF221013_02A_JIANDONG_AD_01_06_10x_CY5, GFP, DAPI, GOLD, TRITC_06_down2_to_SF221013_02A_BK_JIANDONG_AD_01_06_20x_BF_06_down4_AI.tif\n",
      "loading:  SF221013_02A_BK_JIANDONG_AD_01_06_20x_BF_07.tif\n",
      "I shape:  (22186, 29503, 3)\n",
      "time to apply transform: 196.04906916618347\n",
      "torch.Size([3, 9666, 12928])\n",
      "saved AI to  /home/brysongray/bmap/dong/SF221013_02A_output/SF221013_02A_JIANDONG_AD_01_07_10x_CY5, GFP, DAPI, GOLD, TRITC_07_down2_to_SF221013_02A_BK_JIANDONG_AD_01_07_20x_BF_07_down4_AI.tif\n",
      "loading:  SF221013_02A_BK_JIANDONG_AD_01_07_20x_BF_08.tif\n",
      "I shape:  (21908, 29364, 3)\n",
      "time to apply transform: 237.7507197856903\n",
      "torch.Size([3, 9784, 13163])\n",
      "saved AI to  /home/brysongray/bmap/dong/SF221013_02A_output/SF221013_02A_JIANDONG_AD_01_08_10x_CY5, GFP, DAPI, GOLD, TRITC_08_down2_to_SF221013_02A_BK_JIANDONG_AD_01_08_20x_BF_08_down4_AI.tif\n",
      "loading:  SF221013_02A_BK_JIANDONG_AD_01_08_20x_BF_09.tif\n",
      "I shape:  (22454, 31052, 3)\n",
      "time to apply transform: 283.698201417923\n",
      "torch.Size([3, 10020, 13756])\n",
      "saved AI to  /home/brysongray/bmap/dong/SF221013_02A_output/SF221013_02A_JIANDONG_AD_01_09_10x_CY5, GFP, DAPI, GOLD, TRITC_09_down2_to_SF221013_02A_BK_JIANDONG_AD_01_09_20x_BF_09_down4_AI.tif\n",
      "loading:  SF221013_02A_BK_JIANDONG_AD_01_09_20x_BF_10.tif\n",
      "I shape:  (22325, 32164, 3)\n",
      "time to apply transform: 338.66082763671875\n",
      "torch.Size([3, 9902, 13992])\n",
      "saved AI to  /home/brysongray/bmap/dong/SF221013_02A_output/SF221013_02A_JIANDONG_AD_01_10_10x_CY5, GFP, DAPI, GOLD, TRITC_10_down2_to_SF221013_02A_BK_JIANDONG_AD_01_10_20x_BF_10_down4_AI.tif\n",
      "loading:  SF221013_02A_BK_JIANDONG_AD_01_10_20x_BF_11.tif\n",
      "I shape:  (22325, 33147, 3)\n",
      "time to apply transform: 393.8002128601074\n",
      "torch.Size([3, 9844, 14229])\n",
      "saved AI to  /home/brysongray/bmap/dong/SF221013_02A_output/SF221013_02A_JIANDONG_AD_01_11_10x_CY5, GFP, DAPI, GOLD, TRITC_11_down2_to_SF221013_02A_BK_JIANDONG_AD_01_11_20x_BF_11_down4_AI.tif\n",
      "loading:  SF221013_02A_BK_JIANDONG_AD_01_11_20x_BF_12.tif\n",
      "I shape:  (22325, 34279, 3)\n",
      "time to apply transform: 458.4229416847229\n",
      "torch.Size([3, 10020, 14645])\n",
      "saved AI to  /home/brysongray/bmap/dong/SF221013_02A_output/SF221013_02A_JIANDONG_AD_01_12_10x_CY5, GFP, DAPI, GOLD, TRITC_12_down2_to_SF221013_02A_BK_JIANDONG_AD_01_12_20x_BF_12_down4_AI.tif\n",
      "loading:  SF221013_02A_BK_JIANDONG_AD_01_12_20x_BF_13.tif\n",
      "I shape:  (22186, 34557, 3)\n",
      "time to apply transform: 513.987321138382\n",
      "torch.Size([3, 9902, 15058])\n",
      "saved AI to  /home/brysongray/bmap/dong/SF221013_02A_output/SF221013_02A_JIANDONG_AD_01_13_10x_CY5, GFP, DAPI, GOLD, TRITC_13_down2_to_SF221013_02A_BK_JIANDONG_AD_01_13_20x_BF_13_down4_AI.tif\n",
      "loading:  SF221013_02A_BK_JIANDONG_AD_01_13_20x_BF_14.tif\n",
      "I shape:  (22603, 35133, 3)\n",
      "time to apply transform: 578.7341058254242\n",
      "torch.Size([3, 10198, 15591])\n",
      "saved AI to  /home/brysongray/bmap/dong/SF221013_02A_output/SF221013_02A_JIANDONG_AD_01_14_10x_CY5, GFP, DAPI, GOLD, TRITC_14_down2_to_SF221013_02A_BK_JIANDONG_AD_01_14_20x_BF_14_down4_AI.tif\n",
      "loading:  SF221013_02A_BK_JIANDONG_AD_01_14_20x_BF_15.tif\n",
      "I shape:  (23179, 35967, 3)\n",
      "time to apply transform: 640.6131458282471\n",
      "torch.Size([3, 10198, 15945])\n",
      "saved AI to  /home/brysongray/bmap/dong/SF221013_02A_output/SF221013_02A_JIANDONG_AD_01_15_10x_CY5, GFP, DAPI, GOLD, TRITC_15_down2_to_SF221013_02A_BK_JIANDONG_AD_01_15_20x_BF_15_down4_AI.tif\n",
      "loading:  SF221013_02A_BK_JIANDONG_AD_02_20x_BF_01.tif\n",
      "I shape:  (24003, 36107, 3)\n",
      "time to apply transform: 703.7398493289948\n",
      "torch.Size([3, 10375, 16004])\n",
      "saved AI to  /home/brysongray/bmap/dong/SF221013_02A_output/SF221013_02A_JIANDONG_AD_02_01_10x_CY5, GFP, DAPI, GOLD_01_down2_to_SF221013_02A_BK_JIANDONG_AD_02_01_20x_BF_01_down4_AI.tif\n",
      "loading:  SF221013_02A_BK_JIANDONG_AD_02_01_20x_BF_02.tif\n",
      "I shape:  (24013, 36960, 3)\n",
      "time to apply transform: 768.2748849391937\n",
      "torch.Size([3, 10435, 16005])\n",
      "saved AI to  /home/brysongray/bmap/dong/SF221013_02A_output/SF221013_02A_JIANDONG_AD_02_02_10x_CY5, GFP, DAPI, GOLD_02_down2_to_SF221013_02A_BK_JIANDONG_AD_02_02_20x_BF_02_down4_AI.tif\n",
      "loading:  SF221013_02A_BK_JIANDONG_AD_02_02_20x_BF_03.tif\n",
      "I shape:  (24291, 37934, 3)\n",
      "time to apply transform: 835.4493961334229\n",
      "torch.Size([3, 10849, 16419])\n",
      "saved AI to  /home/brysongray/bmap/dong/SF221013_02A_output/SF221013_02A_JIANDONG_AD_02_03_10x_CY5, GFP, DAPI, GOLD_03_down2_to_SF221013_02A_BK_JIANDONG_AD_02_03_20x_BF_03_down4_AI.tif\n",
      "loading:  SF221013_02A_BK_JIANDONG_AD_02_03_20x_BF_04.tif\n",
      "I shape:  (25126, 37795, 3)\n",
      "time to apply transform: 902.7661292552948\n",
      "torch.Size([3, 10908, 16597])\n",
      "saved AI to  /home/brysongray/bmap/dong/SF221013_02A_output/SF221013_02A_JIANDONG_AD_02_04_10x_CY5, GFP, DAPI, GOLD_04_down2_to_SF221013_02A_BK_JIANDONG_AD_02_04_20x_BF_04_down4_AI.tif\n",
      "loading:  SF221013_02A_BK_JIANDONG_AD_02_04_20x_BF_05.tif\n",
      "I shape:  (25414, 38351, 3)\n",
      "time to apply transform: 970.8906836509705\n",
      "torch.Size([3, 11203, 16596])\n",
      "saved AI to  /home/brysongray/bmap/dong/SF221013_02A_output/SF221013_02A_JIANDONG_AD_02_05_10x_CY5, GFP, DAPI, GOLD_05_down2_to_SF221013_02A_BK_JIANDONG_AD_02_05_20x_BF_05_down4_AI.tif\n",
      "loading:  SF221013_02A_BK_JIANDONG_AD_02_05_20x_BF_06.tif\n",
      "I shape:  (24847, 37934, 3)\n",
      "time to apply transform: 1038.979106426239\n",
      "torch.Size([3, 10848, 16715])\n",
      "saved AI to  /home/brysongray/bmap/dong/SF221013_02A_output/SF221013_02A_JIANDONG_AD_02_06_10x_CY5, GFP, DAPI, GOLD_06_down2_to_SF221013_02A_BK_JIANDONG_AD_02_06_20x_BF_06_down4_AI.tif\n",
      "loading:  SF221013_02A_BK_JIANDONG_AD_02_06_20x_BF_07.tif\n",
      "I shape:  (25135, 38222, 3)\n",
      "time to apply transform: 1106.2105023860931\n",
      "torch.Size([3, 11144, 16714])\n",
      "saved AI to  /home/brysongray/bmap/dong/SF221013_02A_output/SF221013_02A_JIANDONG_AD_02_07_10x_CY5, GFP, DAPI, GOLD_07_down2_to_SF221013_02A_BK_JIANDONG_AD_02_07_20x_BF_07_down4_AI.tif\n",
      "loading:  SF221013_02A_BK_JIANDONG_AD_02_07_20x_BF_08.tif\n",
      "I shape:  (24003, 38768, 3)\n",
      "time to apply transform: 1172.0769717693329\n",
      "torch.Size([3, 10849, 16833])\n",
      "saved AI to  /home/brysongray/bmap/dong/SF221013_02A_output/SF221013_02A_JIANDONG_AD_02_08_10x_CY5, GFP, DAPI, GOLD_08_down2_to_SF221013_02A_BK_JIANDONG_AD_02_08_20x_BF_08_down4_AI.tif\n",
      "loading:  SF221013_02A_BK_JIANDONG_AD_02_08_20x_BF_09.tif\n",
      "I shape:  (24708, 39205, 3)\n",
      "time to apply transform: 1238.2335815429688\n",
      "torch.Size([3, 11204, 16715])\n",
      "saved AI to  /home/brysongray/bmap/dong/SF221013_02A_output/SF221013_02A_JIANDONG_AD_02_09_10x_CY5, GFP, DAPI, GOLD_09_down2_to_SF221013_02A_BK_JIANDONG_AD_02_09_20x_BF_09_down4_AI.tif\n",
      "loading:  SF221013_02A_BK_JIANDONG_AD_02_09_20x_BF_10.tif\n",
      "I shape:  (24996, 39056, 3)\n",
      "time to apply transform: 1307.9988977909088\n",
      "torch.Size([3, 10967, 16952])\n",
      "saved AI to  /home/brysongray/bmap/dong/SF221013_02A_output/SF221013_02A_JIANDONG_AD_02_10_10x_CY5, GFP, DAPI, GOLD_10_down2_to_SF221013_02A_BK_JIANDONG_AD_02_10_20x_BF_10_down4_AI.tif\n",
      "loading:  SF221013_02A_BK_JIANDONG_AD_02_10_20x_BF_11.tif\n",
      "I shape:  (24708, 39344, 3)\n",
      "time to apply transform: 1375.9320669174194\n",
      "torch.Size([3, 11025, 17247])\n",
      "saved AI to  /home/brysongray/bmap/dong/SF221013_02A_output/SF221013_02A_JIANDONG_AD_02_11_10x_CY5, GFP, DAPI, GOLD_11_down2_to_SF221013_02A_BK_JIANDONG_AD_02_11_20x_BF_11_down4_AI.tif\n",
      "loading:  SF221013_02A_BK_JIANDONG_AD_02_11_20x_BF_12.tif\n",
      "I shape:  (24152, 39056, 3)\n",
      "time to apply transform: 1443.105941772461\n",
      "torch.Size([3, 10375, 17485])\n",
      "saved AI to  /home/brysongray/bmap/dong/SF221013_02A_output/SF221013_02A_JIANDONG_AD_02_12_10x_CY5, GFP, DAPI, GOLD_12_down2_to_SF221013_02A_BK_JIANDONG_AD_02_12_20x_BF_12_down4_AI.tif\n",
      "loading:  SF221013_02A_BK_JIANDONG_AD_03_20x_BF_01.tif\n",
      "I shape:  (24430, 39433, 3)\n",
      "time to apply transform: 1509.473215341568\n",
      "torch.Size([3, 10671, 17188])\n",
      "saved AI to  /home/brysongray/bmap/dong/SF221013_02A_output/SF221013_02A_JIANDONG_AD_03_01_10x_CY5, GFP, DAPI, GOLD_01_down2_to_SF221013_02A_BK_JIANDONG_AD_03_01_20x_BF_01_down4_AI.tif\n",
      "loading:  SF221013_02A_BK_JIANDONG_AD_03_01_20x_BF_02.tif\n"
     ]
    }
   ],
   "source": [
    "slice_reg.transform_series(out_dir, src_dir=myelin_dir, target_dir=fluoro_dir, transforms_dir=transforms_dir, src_files=filesM, target_files=filesN_, transform_list=npzlist, device='cpu')"
   ]
  }
 ],
 "metadata": {
  "kernelspec": {
   "display_name": "Python 3 (ipykernel)",
   "language": "python",
   "name": "python3"
  },
  "language_info": {
   "codemirror_mode": {
    "name": "ipython",
    "version": 3
   },
   "file_extension": ".py",
   "mimetype": "text/x-python",
   "name": "python",
   "nbconvert_exporter": "python",
   "pygments_lexer": "ipython3",
   "version": "3.9.13"
  }
 },
 "nbformat": 4,
 "nbformat_minor": 5
}
