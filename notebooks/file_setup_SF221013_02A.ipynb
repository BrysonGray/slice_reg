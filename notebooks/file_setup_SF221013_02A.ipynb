{
 "cells": [
  {
   "attachments": {},
   "cell_type": "markdown",
   "id": "c5f56423",
   "metadata": {},
   "source": [
    "# downsample microscopy and save locally\n"
   ]
  },
  {
   "cell_type": "code",
   "execution_count": null,
   "id": "cc3566b9",
   "metadata": {},
   "outputs": [],
   "source": [
    "import pandas as pd\n",
    "import os\n",
    "from os.path import split,join,splitext\n",
    "import tifffile\n",
    "%matplotlib notebook\n",
    "import matplotlib.pyplot as plt\n",
    "import numpy as np\n",
    "import re\n"
   ]
  },
  {
   "attachments": {},
   "cell_type": "markdown",
   "id": "5e223f97",
   "metadata": {},
   "source": [
    "### Setup list of file names"
   ]
  },
  {
   "cell_type": "code",
   "execution_count": null,
   "id": "5191303b",
   "metadata": {},
   "outputs": [],
   "source": [
    "# data location root directory\n",
    "root_dir = '/home/brysongray/bmap/dong/hanpeng-bk-SF221013_02A/'\n",
    "spreadsheet = 'SF221013_02A_converted_register list.xlsx'\n",
    "myelin_dir = 'SF221013_02A_BK_converted'\n",
    "fluoro_dir = 'SF221013_02A_converted'\n",
    "n_fluoro_channels = 5\n",
    "# location we would like to save the registered images\n",
    "outdir = '/home/brysongray/data/hongwei_data/SF221013_02A/'\n"
   ]
  },
  {
   "cell_type": "code",
   "execution_count": null,
   "id": "2901ad61",
   "metadata": {},
   "outputs": [],
   "source": [
    "# get lists of file names from the excel sheet\n",
    "fnames_data = pd.read_excel(os.path.join(root_dir, spreadsheet), usecols=[0,2])\n",
    "filesM = fnames_data.iloc[:,0] # Myelin\n",
    "filesN = fnames_data.iloc[:,1] # Fluoro\n",
    "# remove nan values from the dataframe\n",
    "filesM = filesM.dropna()\n",
    "filesN = filesN.dropna()\n",
    "# remove single space strings from the dataframe\n",
    "filesM = filesM[filesM != ' ']\n",
    "filesN = filesN[filesN != ' ']\n",
    "# replace double backslash with single forward slash\n",
    "filesM = [f.replace('\\\\', '/') for f in filesM]\n",
    "filesN = [f.replace('\\\\', '/') for f in filesN]\n",
    "# get only the file names\n",
    "filesM = [split(f)[1][1:] for f in filesM] # remove the first character which is a space\n",
    "filesN = [split(f)[1][2:] for f in filesN] # remove the first two characters which are spaces\n",
    "\n",
    "# compare the file names in the excel sheet to the file names in the directory\n",
    "listdirN = os.listdir(join(root_dir, fluoro_dir))\n",
    "listdirN = [f for f in listdirN if 'Overview' not in f]\n",
    "listdirM = os.listdir(join(root_dir, myelin_dir))\n",
    "listdirM = [f for f in listdirM if 'Overview' not in f]\n",
    "# check that listdirN and filesN contain the same files\n",
    "filesNintersection = [f for f in filesN if f in listdirN]\n",
    "print(len(filesNintersection), len(listdirN), len(filesN))\n",
    "print(len(filesNintersection)==len(listdirN)==len(filesN))\n",
    "# check that listdirM and filesM contain the same files\n",
    "filesMintersection = [f for f in filesM if f in listdirM]\n",
    "print(len(filesMintersection), len(listdirM), len(filesM))\n",
    "print(len(filesMintersection)==len(listdirM)==len(filesM))\n",
    "\n",
    "# filesN must be grouped into n for each image with n channels\n",
    "filesN0 = [filesN[i:i+n_fluoro_channels] for i in range(0, len(filesN[:74]), n_fluoro_channels)]\n",
    "filesN1 = [filesN[i:i+n_fluoro_channels-1] for i in range(75, len(filesN), n_fluoro_channels-1)]\n",
    "filesN = filesN0 + filesN1"
   ]
  },
  {
   "attachments": {},
   "cell_type": "markdown",
   "id": "a889d93c",
   "metadata": {},
   "source": [
    "### display sample images"
   ]
  },
  {
   "cell_type": "code",
   "execution_count": null,
   "id": "1ec2e522",
   "metadata": {},
   "outputs": [],
   "source": [
    "I = []\n",
    "for f in filesN[0]:\n",
    "    with tifffile.TiffFile(os.path.join(root_dir, fluoro_dir, f)) as tif:\n",
    "        img = tif.asarray()[::2,::2]\n",
    "        img = img.astype(float)/img.max().astype(float)\n",
    "        I.append(img)\n",
    "        \n",
    "with tifffile.TiffFile(os.path.join(root_dir, myelin_dir, filesM[0])) as tif:\n",
    "    J = tif.asarray()[::4,::4]\n",
    "    J = J.astype(float)/J.max().astype(float)\n",
    "\n"
   ]
  },
  {
   "cell_type": "code",
   "execution_count": null,
   "id": "e1c256aa",
   "metadata": {},
   "outputs": [],
   "source": [
    "print(J.dtype)\n",
    "print(J.max())\n",
    "print(I[0].dtype)\n",
    "print(I[0].max())"
   ]
  },
  {
   "cell_type": "code",
   "execution_count": null,
   "id": "cc83034d",
   "metadata": {},
   "outputs": [],
   "source": [
    "i=0\n",
    "print(I[i].shape)\n",
    "print(J.shape)\n",
    "\n",
    "fig, axs = plt.subplots(2,2)\n",
    "axs[0,0].imshow(I[0])\n",
    "axs[0,0].set_title('Cy5')\n",
    "axs[0,1].imshow(I[1])\n",
    "axs[0,1].set_title('GFP')\n",
    "axs[1,0].imshow(I[2])\n",
    "axs[1,0].set_title('DAPI')\n",
    "axs[1,1].imshow(I[3])\n",
    "axs[1,1].set_title('GOLD')\n",
    "    \n"
   ]
  },
  {
   "cell_type": "code",
   "execution_count": null,
   "id": "e989a047",
   "metadata": {},
   "outputs": [],
   "source": [
    "I_rgb = np.stack(I[:3],axis=-1)\n",
    "fig = plt.figure()\n",
    "plt.imshow(I_rgb)\n",
    "plt.title('Cy5-GFP-DAPI as RGB')"
   ]
  },
  {
   "cell_type": "code",
   "execution_count": null,
   "id": "91ad3add",
   "metadata": {
    "scrolled": false
   },
   "outputs": [],
   "source": [
    "plt.figure()\n",
    "plt.imshow(J)\n",
    "plt.title('Myelin')"
   ]
  },
  {
   "attachments": {},
   "cell_type": "markdown",
   "id": "2a73bb33",
   "metadata": {},
   "source": [
    "### Loop through files, downsample and save"
   ]
  },
  {
   "attachments": {},
   "cell_type": "markdown",
   "id": "0c4a5708",
   "metadata": {},
   "source": [
    "### keep the first three channels of fluoro"
   ]
  },
  {
   "cell_type": "code",
   "execution_count": null,
   "id": "39e3ad26",
   "metadata": {},
   "outputs": [],
   "source": [
    "filesN[0][0].split('CH')[0]+'down2.tif'"
   ]
  },
  {
   "cell_type": "code",
   "execution_count": null,
   "id": "d4989d11",
   "metadata": {},
   "outputs": [],
   "source": [
    "for fileN in filesN:\n",
    "    I = []\n",
    "    for f in fileN[:3]:\n",
    "        with tifffile.TiffFile(os.path.join(root_dir, fluoro_dir, f)) as tif:\n",
    "            dx = tif.pages[0].tags.values()[19].value['pixelsizex']\n",
    "            dy = tif.pages[0].tags.values()[19].value['pixelsizey']\n",
    "            I.append(tif.asarray()[::2,::2])\n",
    "    I = np.stack(I, -1)\n",
    "    fname = fileN[0].split('CH')[0]+f'down2.tif'\n",
    "    print(f'saving: {os.path.join(outdir, \"fluoro\", fname)}')\n",
    "    tifffile.imwrite(os.path.join(outdir, 'fluoro', fname), I, metadata={'pixelsizex':dx*2, 'pixelsizey':dy*2})"
   ]
  },
  {
   "cell_type": "code",
   "execution_count": null,
   "id": "bc123c1e",
   "metadata": {},
   "outputs": [],
   "source": [
    "for fileM in filesM:\n",
    "    with tifffile.TiffFile(os.path.join(root_dir, myelin_dir, fileM)) as tif:\n",
    "        dx = tif.pages[0].tags.values()[19].value['pixelsizex']\n",
    "        dy = tif.pages[0].tags.values()[19].value['pixelsizey']\n",
    "        I = tif.asarray()[::4,::4]\n",
    "    fname = fileM.split('.tif')[0]+'_down4.tif'\n",
    "    print(f'saving: {os.path.join(outdir, \"bk\", fname)}')\n",
    "    tifffile.imwrite(os.path.join(outdir, 'bk', fname), I, metadata={'pixelsizex':dx*4, 'pixelsizey':dy*4})"
   ]
  },
  {
   "cell_type": "code",
   "execution_count": null,
   "id": "67b0469c",
   "metadata": {},
   "outputs": [],
   "source": [
    "# correct the numbering so the images align when the lists are sorted\n",
    "# filesM = sorted(os.listdir(join(outdir, 'bk')))\n",
    "filesM = sorted(os.listdir(join(root_dir, myelin_dir)))\n",
    "filesM = [f for f in filesM if 'Overview' not in f]\n",
    "print(filesM[:15])\n",
    "filesM_v1 = [] \n",
    "for f in filesM:\n",
    "    fsplit = re.split(r'(D_.._)',f)\n",
    "    if fsplit[2][:3] == '20x':\n",
    "        f_ = fsplit[0] + fsplit[1] + '01_' + fsplit[2]\n",
    "        filesM_v1.append(f_)\n",
    "    else:\n",
    "        # n = int(f.split('_AD_0*_')[1][:2])\n",
    "        n = int(fsplit[2][:2])\n",
    "        f_ = fsplit[0] + fsplit[1] + f'{n+1:02}' + fsplit[2][2:]\n",
    "        filesM_v1.append(f_)\n",
    "print(filesM_v1[:15])\n"
   ]
  },
  {
   "cell_type": "code",
   "execution_count": null,
   "id": "d02bc6c1",
   "metadata": {},
   "outputs": [],
   "source": [
    "root = join(root_dir, myelin_dir)\n",
    "for f in range(len(filesM)):\n",
    "    os.rename(join(root,filesM[f]), join(root,filesM_v1[f]))"
   ]
  }
 ],
 "metadata": {
  "kernelspec": {
   "display_name": "Python 3 (ipykernel)",
   "language": "python",
   "name": "python3"
  },
  "language_info": {
   "codemirror_mode": {
    "name": "ipython",
    "version": 3
   },
   "file_extension": ".py",
   "mimetype": "text/x-python",
   "name": "python",
   "nbconvert_exporter": "python",
   "pygments_lexer": "ipython3",
   "version": "3.9.13"
  }
 },
 "nbformat": 4,
 "nbformat_minor": 5
}
